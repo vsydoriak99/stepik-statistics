{
  "nbformat": 4,
  "nbformat_minor": 0,
  "metadata": {
    "colab": {
      "name": "2.4 one way ANORA .ipynb",
      "provenance": [],
      "toc_visible": true,
      "authorship_tag": "ABX9TyPA6JZkLWJ7Q/JnzCEuAVXa",
      "include_colab_link": true
    },
    "kernelspec": {
      "name": "python3",
      "display_name": "Python 3"
    },
    "language_info": {
      "name": "python"
    }
  },
  "cells": [
    {
      "cell_type": "markdown",
      "metadata": {
        "id": "view-in-github",
        "colab_type": "text"
      },
      "source": [
        "<a href=\"https://colab.research.google.com/github/vsydoriak99/stepik-statistics/blob/main/2_4_one_way_ANORA_.ipynb\" target=\"_parent\"><img src=\"https://colab.research.google.com/assets/colab-badge.svg\" alt=\"Open In Colab\"/></a>"
      ]
    },
    {
      "cell_type": "code",
      "metadata": {
        "id": "HY88-hAYQnal"
      },
      "source": [
        "from scipy import stats \n",
        "import pandas as pd"
      ],
      "execution_count": null,
      "outputs": []
    },
    {
      "cell_type": "code",
      "metadata": {
        "colab": {
          "base_uri": "https://localhost:8080/"
        },
        "id": "cEW4fN8sQ3Ij",
        "outputId": "a6e391a4-063c-4367-8212-75e75344ee8a"
      },
      "source": [
        "URL = 'https://stepik.org/media/attachments/lesson/8083/genetherapy.csv'\n",
        "data = pd.read_csv(URL)\n",
        "print(data.head())"
      ],
      "execution_count": null,
      "outputs": [
        {
          "output_type": "stream",
          "name": "stdout",
          "text": [
            "   expr Therapy\n",
            "0   100       A\n",
            "1    96       A\n",
            "2   101       A\n",
            "3    95       A\n",
            "4   103       A\n"
          ]
        }
      ]
    },
    {
      "cell_type": "code",
      "metadata": {
        "colab": {
          "base_uri": "https://localhost:8080/"
        },
        "id": "sq0ei0GPR9HR",
        "outputId": "54a32298-cc5a-4bc9-a4a2-85069b596c08"
      },
      "source": [
        "data['Therapy'].unique()"
      ],
      "execution_count": null,
      "outputs": [
        {
          "output_type": "execute_result",
          "data": {
            "text/plain": [
              "array(['A', 'B', 'C', 'D'], dtype=object)"
            ]
          },
          "metadata": {},
          "execution_count": 15
        }
      ]
    },
    {
      "cell_type": "code",
      "metadata": {
        "colab": {
          "base_uri": "https://localhost:8080/",
          "height": 318
        },
        "id": "oWips2IxRbth",
        "outputId": "ec0d3f65-bff0-4b4f-d734-f734d2ef8c01"
      },
      "source": [
        "data.boxplot('expr', by='Therapy')"
      ],
      "execution_count": null,
      "outputs": [
        {
          "output_type": "execute_result",
          "data": {
            "text/plain": [
              "<matplotlib.axes._subplots.AxesSubplot at 0x7fa248f607d0>"
            ]
          },
          "metadata": {},
          "execution_count": 10
        },
        {
          "output_type": "display_data",
          "data": {
            "image/png": "[encoded data removed]",
            "text/plain": [
              "<Figure size 432x288 with 1 Axes>"
            ]
          },
          "metadata": {
            "needs_background": "light"
          }
        }
      ]
    },
    {
      "cell_type": "code",
      "metadata": {
        "id": "JGatHuR5RFeN"
      },
      "source": [
        "A = data[data[\"Therapy\"] == \"A\"][\"expr\"]\n",
        "B = data[data[\"Therapy\"] == \"B\"][\"expr\"]\n",
        "C = data[data[\"Therapy\"] == \"C\"][\"expr\"]\n",
        "D = data[data[\"Therapy\"] == \"D\"][\"expr\"]\n"
      ],
      "execution_count": null,
      "outputs": []
    },
    {
      "cell_type": "code",
      "metadata": {
        "colab": {
          "base_uri": "https://localhost:8080/"
        },
        "id": "NhbebDEzRZuh",
        "outputId": "af9b9dbc-9899-419c-adbf-d925a5e40f79"
      },
      "source": [
        "stats.f_oneway(A, B, C, D)"
      ],
      "execution_count": null,
      "outputs": [
        {
          "output_type": "execute_result",
          "data": {
            "text/plain": [
              "F_onewayResult(statistic=8.03730248114399, pvalue=0.00015249722895229536)"
            ]
          },
          "metadata": {},
          "execution_count": 8
        }
      ]
    },
    {
      "cell_type": "code",
      "metadata": {
        "id": "dL1NSqz9RwTy"
      },
      "source": [
        ""
      ],
      "execution_count": null,
      "outputs": []
    }
  ]
}